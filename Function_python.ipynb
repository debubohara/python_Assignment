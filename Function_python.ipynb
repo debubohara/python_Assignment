{
 "cells": [
  {
   "cell_type": "markdown",
   "metadata": {},
   "source": [
    "## 1. Factorial Function: Write a function factorial(n)that returns the factorial of a number using for loop."
   ]
  },
  {
   "cell_type": "code",
   "execution_count": 29,
   "metadata": {},
   "outputs": [
    {
     "name": "stdout",
     "output_type": "stream",
     "text": [
      "720\n"
     ]
    }
   ],
   "source": [
    "def factorial(n):#defining the factorial\n",
    "    result = 1\n",
    "    for i in range(1, n + 1):#to calculate factorial using for loop\n",
    "        result *= i\n",
    "    return result\n",
    "print(factorial(6))"
   ]
  },
  {
   "cell_type": "markdown",
   "metadata": {},
   "source": [
    "## 2.Prime check Function: Create  a function is_prime(n)to check whether number  is prime.\n",
    "\n",
    "Example: Input= 7\n",
    "\n",
    "Output=True"
   ]
  },
  {
   "cell_type": "code",
   "execution_count": 1,
   "metadata": {},
   "outputs": [
    {
     "name": "stdout",
     "output_type": "stream",
     "text": [
      "True\n"
     ]
    }
   ],
   "source": [
    "def is_prime(n):\n",
    "    # for numbers less than or equal to 1\n",
    "    if n <= 1:\n",
    "        return False\n",
    "    for i in range(2, int(n ** 0.5) + 1):# for divisibility from 2 up to the square root of n\n",
    "        if n % i == 0:\n",
    "            return False\n",
    "    \n",
    "    # If not divisible, it is a prime number\n",
    "    return True    \n",
    "print(is_prime(7))"
   ]
  },
  {
   "cell_type": "markdown",
   "metadata": {},
   "source": [
    "## 3. Find Maximum in_list: Write a function find_max(lst) to find an return the maximum value in a list\n",
    "\n",
    "Example:\n",
    "\n",
    "Input={1,3,7,8}\n",
    "\n",
    "Oputput:7"
   ]
  },
  {
   "cell_type": "code",
   "execution_count": 19,
   "metadata": {},
   "outputs": [
    {
     "name": "stdout",
     "output_type": "stream",
     "text": [
      "19\n"
     ]
    }
   ],
   "source": [
    "def find_max (lst):\n",
    "    max_value= lst[0]\n",
    "    for num in lst:#to find the maximum value\n",
    "        if num> max_value:\n",
    "            max_value= num\n",
    "            \n",
    "    return max_value\n",
    "print(find_max([9,10,13,2,19]))\n",
    "\n"
   ]
  },
  {
   "cell_type": "markdown",
   "metadata": {},
   "source": [
    "## 4. Write a function palindrome_check(string) that returns True if the given string is palindrome, otherwisde False.\n",
    "\n",
    "Example:\n",
    "\n",
    "Input= \"radar\", Output= True"
   ]
  },
  {
   "cell_type": "code",
   "execution_count": 1,
   "metadata": {},
   "outputs": [
    {
     "name": "stdout",
     "output_type": "stream",
     "text": [
      "True\n"
     ]
    }
   ],
   "source": [
    "def palindrome_check(string):\n",
    "    message_string= \"radar\"\n",
    "    return message_string == message_string#compare string with reverse\n",
    "print(palindrome_check(\"radar\"))"
   ]
  },
  {
   "cell_type": "markdown",
   "metadata": {},
   "source": [
    "## 5. Write a function sum_of_squares(n) that returns the sum of square of the first natural numbers."
   ]
  },
  {
   "cell_type": "code",
   "execution_count": 40,
   "metadata": {},
   "outputs": [
    {
     "name": "stdout",
     "output_type": "stream",
     "text": [
      "30\n"
     ]
    }
   ],
   "source": [
    "def sum_of_squares(n):\n",
    "    return sum(i**2 for i in range(1,n+1))#sum the suqares of the first n natural numbers\n",
    "print(sum_of_squares(4))"
   ]
  }
 ],
 "metadata": {
  "kernelspec": {
   "display_name": "Python 3",
   "language": "python",
   "name": "python3"
  },
  "language_info": {
   "codemirror_mode": {
    "name": "ipython",
    "version": 3
   },
   "file_extension": ".py",
   "mimetype": "text/x-python",
   "name": "python",
   "nbconvert_exporter": "python",
   "pygments_lexer": "ipython3",
   "version": "3.13.1"
  }
 },
 "nbformat": 4,
 "nbformat_minor": 2
}
