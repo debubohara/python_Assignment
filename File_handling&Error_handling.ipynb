{
 "cells": [
  {
   "cell_type": "markdown",
   "metadata": {},
   "source": [
    "## 1. File Creation and Writing: Write a Python script to: \n",
    "* Create a file named data.txt. \n",
    "* Write the numbers from 1 to 10 (each on a new line) to the file. \n",
    "* Read the file and print its contents. \n"
   ]
  },
  {
   "cell_type": "code",
   "execution_count": 1,
   "metadata": {},
   "outputs": [
    {
     "name": "stdout",
     "output_type": "stream",
     "text": [
      "1\n",
      "2\n",
      "3\n",
      "4\n",
      "5\n",
      "6\n",
      "7\n",
      "8\n",
      "9\n",
      "10\n",
      "\n"
     ]
    }
   ],
   "source": [
    "with open(\"data.txt\",\"w\")as file:#writing a file \"with\" statement\n",
    "    for number in range(1,11 ):\n",
    "        file.write(f\"{number}\\n\")\n",
    "\n",
    "file=open (\"data.txt\",\"r\")#reading a file\n",
    "content= file.read()\n",
    "print(content)#print a file\n",
    "\n"
   ]
  },
  {
   "cell_type": "markdown",
   "metadata": {},
   "source": [
    "## 2. Word Count in File: Write a program that reads a file named sample.txt, counts the number of words in it, and prints the result"
   ]
  },
  {
   "cell_type": "code",
   "execution_count": 5,
   "metadata": {},
   "outputs": [
    {
     "name": "stdout",
     "output_type": "stream",
     "text": [
      "The file sample.txt was not found.\n"
     ]
    }
   ],
   "source": [
    "def count_words_in_file(file_name):\n",
    "    try:\n",
    "        with open(file_name, 'r') as file:\n",
    "            # Read the content of the file\n",
    "            content = file.read()\n",
    "            \n",
    "            # Split the content into words using whitespace as a delimiter\n",
    "            words = content.split()\n",
    "            \n",
    "            # Count the number of words\n",
    "            word_count = len(words)\n",
    "            \n",
    "            # Print the result\n",
    "            print(f\"The number of words in {file_name} is: {word_count}\")\n",
    "    \n",
    "    except FileNotFoundError:\n",
    "        print(f\"The file {file_name} was not found.\")\n",
    "    except Exception as e:\n",
    "        print(f\"An error occurred: {e}\")\n",
    "\n",
    "# Call the function with the file name\n",
    "count_words_in_file('sample.txt')"
   ]
  },
  {
   "cell_type": "markdown",
   "metadata": {},
   "source": [
    "## Section 5: Error Handling \n",
    "## 1. Division with Error Handling: Write a program that takes two numbers as input and divides the first number by the second. \n",
    "* Use try and except to handle the division by zero error. \n",
    "\n"
   ]
  },
  {
   "cell_type": "code",
   "execution_count": 42,
   "metadata": {},
   "outputs": [
    {
     "name": "stdout",
     "output_type": "stream",
     "text": [
      "result of 20 divided by the 2 is result \n",
      "The operation was successful!\n",
      "Execution completed.\n"
     ]
    }
   ],
   "source": [
    "#takes two numbers as input\n",
    "try:\n",
    "    num1= int(input(\"Enter a 1st number:\"))\n",
    "    num2= int(input(\"Enter a 2nd number:\"))\n",
    "    result=num1/num2\n",
    "    print(f\"result of {num1} divided by the {num2} is result \")\n",
    "except ZeroDivisionError:#handle the divisible by zero error\n",
    "    print(\"Error:Division by zero is not valid.\")\n",
    "else:\n",
    "    print(\"The operation was successful!\")\n",
    "finally:\n",
    "    print(\"Execution completed.\")\n"
   ]
  },
  {
   "cell_type": "markdown",
   "metadata": {},
   "source": [
    "## 2. Integer Input Validation: Create a program that asks the user to input an integer. \n",
    "* Use try, except, and else to handle invalid input. Example: \n",
    "* Input: abc \n",
    "* Output: \"Invalid input, please enter an integer.\" \n"
   ]
  },
  {
   "cell_type": "code",
   "execution_count": 44,
   "metadata": {},
   "outputs": [
    {
     "name": "stdout",
     "output_type": "stream",
     "text": [
      "Error: Invalid input. Please enter a number. (invalid literal for int() with base 10: 'abc')\n"
     ]
    }
   ],
   "source": [
    "#input from the user\n",
    "try:\n",
    "   user= int(input(\"Enter a number:\"))\n",
    "except ValueError as e:\n",
    "    print(f\"Error: Invalid input. Please enter a number. ({e})\")\n",
    "else:\n",
    "    print(\"The operation was successful!\")\n"
   ]
  },
  {
   "cell_type": "markdown",
   "metadata": {},
   "source": [
    "## 3. File Not Found Error Handling: Write a script that:\n",
    "* Opens a file named unknown.txt. \n",
    "* Handles the FileNotFoundError gracefully and prints an appropriate message.\n"
   ]
  },
  {
   "cell_type": "code",
   "execution_count": 6,
   "metadata": {},
   "outputs": [
    {
     "name": "stdout",
     "output_type": "stream",
     "text": [
      "Error: The file 'unknown.txt' is not found\n"
     ]
    }
   ],
   "source": [
    "try:\n",
    "   with open(\"unknown.txt\",\"r\")as file:\n",
    "    content=file.read()\n",
    "    print(content)\n",
    "\n",
    "except FileNotFoundError:\n",
    "  print(\"Error: The file 'unknown.txt' is not found\")\n",
    "  \n",
    "except Exception as e:\n",
    "    # Handle any other exceptions\n",
    "    print(f\"An error occurred: {e}\")\n"
   ]
  }
 ],
 "metadata": {
  "kernelspec": {
   "display_name": "Python 3",
   "language": "python",
   "name": "python3"
  },
  "language_info": {
   "codemirror_mode": {
    "name": "ipython",
    "version": 3
   },
   "file_extension": ".py",
   "mimetype": "text/x-python",
   "name": "python",
   "nbconvert_exporter": "python",
   "pygments_lexer": "ipython3",
   "version": "3.13.1"
  }
 },
 "nbformat": 4,
 "nbformat_minor": 2
}
