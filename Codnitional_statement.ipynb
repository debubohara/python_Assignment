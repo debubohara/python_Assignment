{
 "cells": [
  {
   "cell_type": "markdown",
   "metadata": {},
   "source": [
    "## Section 1."
   ]
  },
  {
   "cell_type": "markdown",
   "metadata": {},
   "source": [
    "## 1.Write a program that asks the user to enter a number and checks whether the number is even or odd."
   ]
  },
  {
   "cell_type": "code",
   "execution_count": 2,
   "metadata": {},
   "outputs": [
    {
     "name": "stdout",
     "output_type": "stream",
     "text": [
      "33 is odd\n"
     ]
    }
   ],
   "source": [
    "#Input from the user\n",
    "num= int(input(\"Enter a number:33\"))\n",
    "if num %2== 0:\n",
    "    print(f\"{num} is even\")\n",
    "else:\n",
    "    print(f\"{num} is odd\")\n"
   ]
  },
  {
   "cell_type": "markdown",
   "metadata": {},
   "source": [
    "## 2. Write a program that asks the user to enter a number and checks whether it is positive, negative, or zero."
   ]
  },
  {
   "cell_type": "code",
   "execution_count": 5,
   "metadata": {},
   "outputs": [
    {
     "name": "stdout",
     "output_type": "stream",
     "text": [
      "The number is negative.\n"
     ]
    }
   ],
   "source": [
    "#Tnput from the user\n",
    "num= float(input(\"Enter a number:-30\"))\n",
    "if num >0:\n",
    "    print(\"The number is positive.\")\n",
    "elif num <0:\n",
    "    print(\"The number is negative.\")\n",
    "else:\n",
    "    print(\"The number is zero.\")\n"
   ]
  },
  {
   "cell_type": "markdown",
   "metadata": {},
   "source": [
    "## 3. Write a program that asks the user to enter their age and check if they are eligibe to vote (18 years or older)"
   ]
  },
  {
   "cell_type": "code",
   "execution_count": 14,
   "metadata": {},
   "outputs": [
    {
     "name": "stdout",
     "output_type": "stream",
     "text": [
      "you are not eligible for vote.\n"
     ]
    }
   ],
   "source": [
    "#Input from the user\n",
    "age= int(input(\"Enter your age:16\"))\n",
    "if age >=18:\n",
    "    print(\"You are eligible for vote.\")\n",
    "else:\n",
    "    print(\"you are not eligible for vote.\")\n",
    "    \n",
    "\n"
   ]
  },
  {
   "cell_type": "markdown",
   "metadata": {},
   "source": [
    "## 4. Write a program that takes the lengths of three sides of a triangle as input and determines if the triangle is:\n",
    "\n",
    "Equilateral triangle(all sides are equal)\n",
    "\n",
    "Isolateral triangle(two sides are equal)\n",
    "\n",
    "Scalene(all sides are different)"
   ]
  },
  {
   "cell_type": "code",
   "execution_count": 12,
   "metadata": {},
   "outputs": [
    {
     "name": "stdout",
     "output_type": "stream",
     "text": [
      "Triangle is scalene triangle.\n"
     ]
    }
   ],
   "source": [
    "#Input from the user\n",
    "length1= int(input(\"Enter a first side:10\"))\n",
    "length2= int(input(\"Enter a second side:20\"))\n",
    "length3= int(input(\"Enter a third side:30\"))\n",
    "if length1==length2==length3:\n",
    "    print(f\"Triangle is Equilateral triangle.\")\n",
    "elif length1==length2!=length3:\n",
    "    print(f\"Triangle is isolateral triangle.\")\n",
    "else:\n",
    "    print(f\"Triangle is scalene triangle.\")\n"
   ]
  },
  {
   "cell_type": "markdown",
   "metadata": {},
   "source": [
    "## 5. Wite a program that asks the number to enter a password and check if it matches a predifined password(e.g, \"python123\")"
   ]
  },
  {
   "cell_type": "code",
   "execution_count": 16,
   "metadata": {},
   "outputs": [
    {
     "name": "stdout",
     "output_type": "stream",
     "text": [
      "not verified password.\n"
     ]
    }
   ],
   "source": [
    "predifined_password= \"python123\"\n",
    "#Input password from the user\n",
    "user_password= input(\"Enter the password: Debu123\")\n",
    "if user_password== predifined_password:\n",
    "    print(\"verified password.\")\n",
    "else:\n",
    "    print(\"not verified password.\")\n"
   ]
  }
 ],
 "metadata": {
  "kernelspec": {
   "display_name": "Python 3",
   "language": "python",
   "name": "python3"
  },
  "language_info": {
   "codemirror_mode": {
    "name": "ipython",
    "version": 3
   },
   "file_extension": ".py",
   "mimetype": "text/x-python",
   "name": "python",
   "nbconvert_exporter": "python",
   "pygments_lexer": "ipython3",
   "version": "3.13.1"
  }
 },
 "nbformat": 4,
 "nbformat_minor": 2
}
