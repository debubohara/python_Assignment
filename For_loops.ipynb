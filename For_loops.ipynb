{
 "cells": [
  {
   "cell_type": "markdown",
   "metadata": {},
   "source": [
    "## 6. Multiplilcation Table: Write a program to print the multiplication table of a given number using a gor loop. Example\n",
    "\n",
    "Input: 5\n",
    "\n",
    "Output: 5,10,15,.....,50"
   ]
  },
  {
   "cell_type": "code",
   "execution_count": 4,
   "metadata": {},
   "outputs": [
    {
     "name": "stdout",
     "output_type": "stream",
     "text": [
      "5*1=5\n",
      "5*2=10\n",
      "5*3=15\n",
      "5*4=20\n",
      "5*5=25\n",
      "5*6=30\n",
      "5*7=35\n",
      "5*8=40\n",
      "5*9=45\n",
      "5*10=50\n"
     ]
    }
   ],
   "source": [
    "#Input from the user\n",
    "number= int(input(\"Enter a number:5\"))\n",
    "for i in range(1,11):\n",
    "    print(f\"{number}*{i}={number*i}\")\n"
   ]
  },
  {
   "cell_type": "markdown",
   "metadata": {},
   "source": [
    "## 7. Count vowels: Write a porgram to count and display the number of vowels in a given string."
   ]
  },
  {
   "cell_type": "code",
   "execution_count": 32,
   "metadata": {},
   "outputs": [
    {
     "name": "stdout",
     "output_type": "stream",
     "text": [
      "The number of vowels in the given string is: 4\n"
     ]
    }
   ],
   "source": [
    "vowel_count = 0\n",
    "input_string = \"Hello Nepal\"\n",
    "    \n",
    "    # Iterate through each character in the string\n",
    "for char in input_string:\n",
    "        if char in vowels:\n",
    "            vowel_count += 1\n",
    "    \n",
    "    # Display the result\n",
    "print(f\"The number of vowels in the given string is: {vowel_count}\")\n"
   ]
  },
  {
   "cell_type": "markdown",
   "metadata": {},
   "source": [
    "## 8. Sum of Even numbers create a program to find the sum of all even numbers in a list using for loop.\n",
    "\n",
    "Example:\n",
    "\n",
    "input=  {2,5,8,3}, Output= 18"
   ]
  },
  {
   "cell_type": "code",
   "execution_count": 32,
   "metadata": {},
   "outputs": [
    {
     "name": "stdout",
     "output_type": "stream",
     "text": [
      "Sum of all even numbers: 56\n"
     ]
    }
   ],
   "source": [
    "#Using for loop calculating sum of all even numbers in a list\n",
    "numbers= [2,4,6,8,10,12,14]#Input numbers in a list\n",
    "even_sum= 0\n",
    "for num in numbers:#For sum of even number\n",
    "        even_sum += num\n",
    "    \n",
    "print(f\"Sum of all even numbers:\", even_sum)  "
   ]
  },
  {
   "cell_type": "markdown",
   "metadata": {},
   "source": [
    "## 9. Create a program to find the largest and smallest numbers in a list using a for loop.\n",
    "\n",
    "Example: Input={10,20,5,8}\n",
    "\n",
    "Output= largest:20, smallest:5"
   ]
  },
  {
   "cell_type": "code",
   "execution_count": 12,
   "metadata": {},
   "outputs": [
    {
     "name": "stdout",
     "output_type": "stream",
     "text": [
      "largest:20\n",
      "smallest :6\n"
     ]
    }
   ],
   "source": [
    "numbers= [10,20,5,2,6]\n",
    "\n",
    "largest_number= 0\n",
    "smallest_number=0\n",
    "for num in numbers:\n",
    "    if num >largest:\n",
    "       largest= num\n",
    "    else:\n",
    "        num <smallest\n",
    "        smallest=num\n",
    "print(f\"largest:{largest}\")\n",
    "print(f\"smallest :{smallest}\")\n",
    "\n",
    "\n",
    "\n"
   ]
  },
  {
   "cell_type": "markdown",
   "metadata": {},
   "source": [
    "## 10. Write a program o calculate the sum of digits of a given numbers using for a loop.\n",
    "\n",
    "E.g= Input= 1234, Output=18"
   ]
  },
  {
   "cell_type": "code",
   "execution_count": 31,
   "metadata": {},
   "outputs": [
    {
     "name": "stdout",
     "output_type": "stream",
     "text": [
      "Sum of total numbers: 127\n"
     ]
    }
   ],
   "source": [
    "numbers= 2,3,6,16,20,80\n",
    "total_sum=0\n",
    "for num in numbers:\n",
    "        total_sum += num\n",
    "print(f\"Sum of total numbers:\",total_sum)  "
   ]
  },
  {
   "cell_type": "markdown",
   "metadata": {},
   "source": [
    "## 11. Write a program to reverse a given string using a for loop\n",
    "\n",
    "Example: Input= \"python,  Output= \"nohtpy\""
   ]
  },
  {
   "cell_type": "code",
   "execution_count": 39,
   "metadata": {},
   "outputs": [
    {
     "name": "stdout",
     "output_type": "stream",
     "text": [
      "Reversed_string: ubeD\n"
     ]
    }
   ],
   "source": [
    "#Input string from user\n",
    "string= input(\"Enter a string:Debu\")\n",
    "reversed_string= \"\" # empty string for reversed string\n",
    "for char in string: #to convert original string to reversed string\n",
    "    reversed_string= char +reversed_string\n",
    "    \n",
    "print(\"Reversed_string:\",reversed_string)\n"
   ]
  }
 ],
 "metadata": {
  "kernelspec": {
   "display_name": "Python 3",
   "language": "python",
   "name": "python3"
  },
  "language_info": {
   "codemirror_mode": {
    "name": "ipython",
    "version": 3
   },
   "file_extension": ".py",
   "mimetype": "text/x-python",
   "name": "python",
   "nbconvert_exporter": "python",
   "pygments_lexer": "ipython3",
   "version": "3.13.1"
  }
 },
 "nbformat": 4,
 "nbformat_minor": 2
}
