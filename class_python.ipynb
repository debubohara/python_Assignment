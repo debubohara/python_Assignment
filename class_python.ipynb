{
 "cells": [
  {
   "cell_type": "markdown",
   "metadata": {},
   "source": [
    "## 1. Rectangle class: Define a class Rectangle with:\n",
    "\n",
    "\n",
    "* Two attributes:length and width.\n",
    "\n",
    "\n",
    "* A method area () to calculate the area\n",
    "\n",
    "\n",
    "* Amethod perimeter () to calculate the perimeter"
   ]
  },
  {
   "cell_type": "code",
   "execution_count": 8,
   "metadata": {},
   "outputs": [
    {
     "name": "stdout",
     "output_type": "stream",
     "text": [
      "Area of rectangle: 20\n",
      "Perimeter of rectangle: 18\n"
     ]
    }
   ],
   "source": [
    "class Rectangle:\n",
    "    def __init__(self,length,width):\n",
    "        self.length=length#attributes length and width\n",
    "        self.width=width\n",
    "    def area(self):\n",
    "            return self.length*self.width #calculate and return area of rectangle\n",
    "    def perimeter(self):\n",
    "           return 2*(self.length+self.width) #calculate and return perimeter of rectangle\n",
    "    \n",
    "\n",
    "rect1=Rectangle(length=4,width=5)#create an object\n",
    "print(\"Area of rectangle:\",rect1.area())\n",
    "print(\"Perimeter of rectangle:\",rect1.perimeter())\n"
   ]
  },
  {
   "cell_type": "markdown",
   "metadata": {},
   "source": [
    "## 2. Student Class: Create a class student with:\n",
    "\n",
    "*  Attributes: name, roll_number, and marks. \n",
    "\n",
    "* A method display_details() to print the student's details.\n",
    " \n",
    " * A method is_passed() that returns True if marks ≥ 40, else False. \n"
   ]
  },
  {
   "cell_type": "code",
   "execution_count": 5,
   "metadata": {},
   "outputs": [
    {
     "name": "stdout",
     "output_type": "stream",
     "text": [
      "name:Debu\n",
      "Roll Number: 2001\n",
      "marks:85\n",
      "passed: True\n"
     ]
    }
   ],
   "source": [
    "class Student:\n",
    "    def __init__(self,name,roll_number,marks):\n",
    "        self.name= name#Attributes are name, roll number,marks.\n",
    "        self.roll_number= roll_number\n",
    "        self.marks= marks\n",
    "\n",
    "    def display_details(self):\n",
    "        print(f\"name:{self.name}\")\n",
    "        print(f\"Roll Number: {self.roll_number}\")\n",
    "        print(f\"marks:{self.marks}\")\n",
    "\n",
    "    def is_passed(self):\n",
    "        if self.marks >= 40:\n",
    "            return True\n",
    "        else:\n",
    "            return False\n",
    "        \n",
    "Student1= Student(name=\"Debu\",roll_number=\"2001\",marks=85)#creating an object\n",
    "Student1.display_details()\n",
    "print(\"passed:\",Student1.is_passed())\n",
    "\n",
    "\n"
   ]
  },
  {
   "cell_type": "markdown",
   "metadata": {},
   "source": [
    "## 3. Define a class Circle with: \n",
    "* Attribute: radius. \n",
    "* Methods: area() to calculate the area, circumference() to calculate the circumference. \n"
   ]
  },
  {
   "cell_type": "code",
   "execution_count": 1,
   "metadata": {},
   "outputs": [
    {
     "name": "stdout",
     "output_type": "stream",
     "text": [
      "Area of circle: 50.24\n",
      "Circumference of circle: 25.12\n"
     ]
    }
   ],
   "source": [
    "class Circle:\n",
    "    def __init__(self,radius):\n",
    "        self.radius=radius\n",
    "    def area(self):\n",
    "        return 3.14*self.radius**2\n",
    "    \n",
    "    def circumference(self):\n",
    "        return 2*3.14*self.radius\n",
    "\n",
    "#Input from the user\n",
    "radius=float(input(\"Enter the radius of the circle:\"))\n",
    "    \n",
    "Circle1=Circle(radius=4)#create an object\n",
    "print(\"Area of circle:\",Circle1.area())\n",
    "print(\"Circumference of circle:\",Circle1.circumference())"
   ]
  },
  {
   "cell_type": "markdown",
   "metadata": {},
   "source": [
    "## 4. Create a class BankAccount with: \n",
    "* Attributes: account_number, account_holder, balance. \n",
    "* Methods: \n",
    "* deposit(amount) to add money to the account.\n",
    "* withdraw(amount) to subtract money (if sufficient balance is available). \n",
    "* display_balance() to print the current balance. \n"
   ]
  },
  {
   "cell_type": "code",
   "execution_count": 1,
   "metadata": {},
   "outputs": [
    {
     "name": "stdout",
     "output_type": "stream",
     "text": [
      "deposited:7000\n",
      "withdrawn:2000\n",
      "current balance:15000.0\n"
     ]
    }
   ],
   "source": [
    "class BankAccount:\n",
    "    def __init__(self,account_number,account_holder,balance):\n",
    "        self.account_number= account_number\n",
    "        self.account_holder= account_holder\n",
    "        self.balance= balance\n",
    "    \n",
    "    def deposit(self,amount):\n",
    "        if amount>0:\n",
    "            self.balance +=amount\n",
    "            print(f\"deposited:{amount}\")\n",
    "\n",
    "        else:\n",
    "            print(\"Deposited amount must be positive.\")\n",
    "\n",
    "    def withdraw(self,amount):\n",
    "        if amount>0 and amount<=self.balance:\n",
    "            self.balance -=amount\n",
    "            print(f\"withdrawn:{amount}\")\n",
    "        \n",
    "        else:\n",
    "            print(\"Insufficient balance or Invalid amount\" )\n",
    "    \n",
    "\n",
    "    def display_balance(self):\n",
    "        print(f\"current balance:{self.balance}\")\n",
    "\n",
    "\n",
    "account1=BankAccount(\"25707010140638\",\"Debu Bohara\",10000.0)\n",
    "account1.deposit(7000)\n",
    "account1.withdraw(2000)\n",
    "account1.display_balance()\n",
    "        "
   ]
  },
  {
   "cell_type": "markdown",
   "metadata": {},
   "source": [
    "## 5. A class Book with: \n",
    "* Attributes: title, author, price. \n",
    "* Methods: \n",
    "* apply_discount(discount) to reduce the price by a given percentage. \n",
    "* display_details() to print the book details."
   ]
  },
  {
   "cell_type": "code",
   "execution_count": 2,
   "metadata": {},
   "outputs": [
    {
     "name": "stdout",
     "output_type": "stream",
     "text": [
      "Title:Computer programming\n",
      "author:Debu Bohara\n",
      "price:2025\n",
      "Title:Computer programming\n",
      "author:Debu Bohara\n",
      "price:1518.75\n"
     ]
    }
   ],
   "source": [
    "class Book:\n",
    "    def __init__(self,title,author,price):#initialize the attributes\n",
    "        self.title=title\n",
    "        self.author=author\n",
    "        self.price=price\n",
    "\n",
    "    def apply_discount(self,discount):#applying discount\n",
    "        self.price -= self.price*(discount/100)\n",
    "\n",
    "    \n",
    "    def display_details(self):\n",
    "        print(f\"Title:{self.title}\")\n",
    "        print(f\"author:{self.author}\")\n",
    "        print(f\"price:{self.price}\")\n",
    "\n",
    "book=Book(\"Computer programming\",\"Debu Bohara\",2025)#creating an object\n",
    "book.display_details()\n",
    "book.apply_discount(25)\n",
    "book.display_details()\n",
    "\n",
    "\n"
   ]
  },
  {
   "cell_type": "markdown",
   "metadata": {},
   "source": [
    "## 6. Create a class Calculator with: \n",
    "* A method add(a, b) to add two numbers. \n",
    "* A method subtract(a, b) to subtract two numbers. \n",
    "* A method multiply(a, b) to multiply two numbers. \n",
    "* A method divide(a, b) to divide two numbers (handle division by zero gracefully). \n"
   ]
  },
  {
   "cell_type": "code",
   "execution_count": 5,
   "metadata": {},
   "outputs": [
    {
     "name": "stdout",
     "output_type": "stream",
     "text": [
      "Addition: 13\n",
      "Substraction: 6\n",
      "Multiplication: 24\n",
      "Division: cannot be divisible by zero!\n"
     ]
    }
   ],
   "source": [
    "class Calculator:\n",
    "    def add(self,a,b):\n",
    "        return a+b\n",
    "    \n",
    "    def substract(self,a,b):\n",
    "        return a-b\n",
    "    \n",
    "    def multiply(self,a,b):\n",
    "        return a*b\n",
    "    \n",
    "    def divide(self,a,b):\n",
    "        if b ==0:\n",
    "            return a/b\n",
    "        else:\n",
    "            return \"cannot be divisible by zero!\"\n",
    "        \n",
    "\n",
    "calc1=Calculator()   #Create an object\n",
    "\n",
    "print(\"Addition:\",calc1.add(6,7))\n",
    "print(\"Substraction:\",calc1.substract(8,2))\n",
    "print(\"Multiplication:\",calc1.multiply(4,6))\n",
    "print(\"Division:\",calc1.divide(30,2))\n",
    "\n",
    "    \n",
    "\n"
   ]
  },
  {
   "cell_type": "markdown",
   "metadata": {},
   "source": [
    "## 7. Write a class Person with: \n",
    "* Attributes: name, age, gender. \n",
    "* Method introduce() to print a message like: \"Hello, my name is [name], I am [age] years old, and I am a [gender].\" ○ Create a subclass Employee that adds: \n",
    "* Attribute: job_title. \n",
    "* Override introduce() to include the job title.\n"
   ]
  },
  {
   "cell_type": "code",
   "execution_count": 19,
   "metadata": {},
   "outputs": [
    {
     "name": "stdout",
     "output_type": "stream",
     "text": [
      "Hello,my name is Debu,I am 21 years old,I am female\n",
      "Hii,my name is Susmita,I am 20 years old,I am female,and I work as a Software Engineer\n"
     ]
    }
   ],
   "source": [
    "class Person:\n",
    "    def __init__ (self,name,age,gender):#initialize the attriubutes of a person\n",
    "        self.name=name\n",
    "        self.age=age\n",
    "        self.gender=gender\n",
    "\n",
    "    def introduce(self):\n",
    "        print(f\"Hello,my name is {self.name},I am {self.age} years old,I am {self.gender}\")\n",
    "\n",
    "class Employee(Person):#sub class employee inherits from a person\n",
    "    def __init__(self,name,age,gender,job_title):\n",
    "        super().__init__(name,age,gender)#initialize the attribute Employee,calling the Super class constructor\n",
    "        self.job_title=job_title\n",
    "\n",
    "    def introduce(self):\n",
    "        print(f\"Hii,my name is {self.name},I am {self.age} years old,I am {self.gender},and I work as a {self.job_title}\")\n",
    "\n",
    "\n",
    "\n",
    "person1=Person(name=\"Debu\",age=21,gender=\"female\")#create object of 1st class\n",
    "person1.introduce()\n",
    "\n",
    "employee1=Employee(name=\"Susmita\",age=20,gender=\"female\",job_title=\"Software Engineer\")#create object of 2nd class\n",
    "employee1.introduce()\n",
    "    \n",
    "\n",
    "\n",
    "\n"
   ]
  },
  {
   "cell_type": "markdown",
   "metadata": {},
   "source": [
    "## Additional Assignment\n",
    "\n",
    "## Create a python class called Employee with attributes name,position,salary and a method display()that calculate and return the both methods:\n",
    "\n",
    "1.Ask the user\n",
    "\n",
    "2. parameter passing"
   ]
  },
  {
   "cell_type": "code",
   "execution_count": 2,
   "metadata": {},
   "outputs": [
    {
     "name": "stdout",
     "output_type": "stream",
     "text": [
      "Name:Debu Bohara\n",
      "Position:Software Engneer\n",
      "Salary:5000000\n"
     ]
    }
   ],
   "source": [
    "class Employee:\n",
    "    def __init__(self,name,position,salary):#initialize the attributes\n",
    "        self.name=name\n",
    "        self.position=position\n",
    "        self.salary=salary\n",
    "\n",
    "    def display (self):\n",
    "        print(f\"Name:{self.name}\")\n",
    "        print(f\"Position:{self.position}\")\n",
    "        print(f\"Salary:{self.salary}\")\n",
    "\n",
    "\n",
    "employee1=Employee(name=\"Debu Bohara\",position=\"Software Engneer\",salary=5000000)#passing parameters\n",
    "employee1.display()\n",
    "\n"
   ]
  },
  {
   "cell_type": "code",
   "execution_count": null,
   "metadata": {},
   "outputs": [],
   "source": []
  }
 ],
 "metadata": {
  "kernelspec": {
   "display_name": "Python 3",
   "language": "python",
   "name": "python3"
  },
  "language_info": {
   "codemirror_mode": {
    "name": "ipython",
    "version": 3
   },
   "file_extension": ".py",
   "mimetype": "text/x-python",
   "name": "python",
   "nbconvert_exporter": "python",
   "pygments_lexer": "ipython3",
   "version": "3.13.1"
  }
 },
 "nbformat": 4,
 "nbformat_minor": 2
}
